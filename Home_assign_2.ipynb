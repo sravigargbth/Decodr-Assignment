{
 "cells": [
  {
   "cell_type": "markdown",
   "metadata": {
    "id": "Ss4NtxX0hK0x"
   },
   "source": [
    "Que-1) Take a number between 0 to 10 from user and Check if a given number already exists in a dictionary as a key or not. Here is the dictionary.\n",
    "\n",
    "dictionaryName = {1: 10, 2: 20, 3: 30, 4: 40, 5: 50, 6: 60}\n"
   ]
  },
  {
   "cell_type": "code",
   "execution_count": 1,
   "metadata": {
    "id": "rw2q70JMhp0S"
   },
   "outputs": [
    {
     "name": "stdout",
     "output_type": "stream",
     "text": [
      "Enter the key 7\n",
      "Key is not present in the dictionary\n"
     ]
    }
   ],
   "source": [
    "d = {1: 10, 2: 20, 3: 30, 4: 40, 5: 50, 6: 60}\n",
    "key=int(input(\"Enter the key \"))\n",
    "if key in d:\n",
    "    print('Key is present in the dictionary')\n",
    "else:\n",
    "      print('Key is not present in the dictionary')\n"
   ]
  },
  {
   "cell_type": "markdown",
   "metadata": {
    "id": "lTXB6AIxht5F"
   },
   "source": [
    "Que-2) Write a Python script to concatenate following dictionaries to create a new one.\n",
    "\n",
    "dic1={1:10, 2:20}, dic2={3:30, 4:40}, dic3={5:50,6:60}\n"
   ]
  },
  {
   "cell_type": "code",
   "execution_count": 2,
   "metadata": {
    "id": "xEoVlmoyh6DZ"
   },
   "outputs": [
    {
     "name": "stdout",
     "output_type": "stream",
     "text": [
      "{1: 10, 2: 20, 3: 30, 4: 40, 5: 50, 6: 60}\n"
     ]
    }
   ],
   "source": [
    "dic1={1:10, 2:20}\n",
    "dic2={3:30, 4:40}\n",
    "dic3={5:50,6:60}\n",
    "dic4 = {}\n",
    "for d in (dic1, dic2, dic3): dic4.update(d)\n",
    "print(dic4)"
   ]
  },
  {
   "cell_type": "markdown",
   "metadata": {
    "id": "7i5A3TmQh9Jd"
   },
   "source": [
    "Que-3) Create a Dictionay where you have to take 5 numbers from user and store them as key, and their value should be square of those keys.\n",
    "\n",
    "Example: If user enters these 5 numbers: 2,3,4,5,6, then your dictionay should look like this:\n",
    "\n",
    "result = {2:4, 3:9, 4:16, 5:25, 6:36}"
   ]
  },
  {
   "cell_type": "code",
   "execution_count": 3,
   "metadata": {
    "id": "sX7ITeE8iaiw"
   },
   "outputs": [
    {
     "name": "stdout",
     "output_type": "stream",
     "text": [
      "Enter 5 numbers : \n",
      "3\n",
      "12\n",
      "23\n",
      "39\n",
      "45\n",
      "Desired List : {3: 9, 12: 144, 23: 529, 39: 1521, 45: 2025}\n"
     ]
    }
   ],
   "source": [
    "print(\"Enter 5 numbers : \")\n",
    "num = []\n",
    "dict1 = {}\n",
    "for i in range(5):\n",
    "    num.append(int(input()))\n",
    "for i in num:\n",
    "    dict1[i] = i*i\n",
    "print(f\"Desired List : {dict1}\")"
   ]
  },
  {
   "cell_type": "markdown",
   "metadata": {
    "id": "E7EpFyFPims3"
   },
   "source": [
    "Que-4) Find numbers which have 13 as factor for below list: \n",
    "\n",
    "numbers = [13, 5, 9, 25, 65, 71, 81, 91]\n"
   ]
  },
  {
   "cell_type": "code",
   "execution_count": 4,
   "metadata": {
    "id": "gxPcW0Yii1oj"
   },
   "outputs": [
    {
     "name": "stdout",
     "output_type": "stream",
     "text": [
      "[13, 65, 91]\n"
     ]
    }
   ],
   "source": [
    "my_list = [13,5,9,25,65,71,81,91 ]\n",
    "result = list(filter(lambda x: (x % 13 == 0), my_list))\n",
    "print(result) "
   ]
  },
  {
   "cell_type": "markdown",
   "metadata": {
    "id": "7p0iHLF3i1zN"
   },
   "source": [
    "Que-5) Given a list of words, tell if they are palindrome or not.\n",
    "\n",
    "palindrome_word_list = ['121', 'naman', '551', 'loop', 'LOL', 'Madam', '66c66', 'SOON', 'noon']\n",
    "\n",
    "If a particular element in a given list is palindrome, then print that element followed by 'YES' otherwise 'NO'.\n"
   ]
  },
  {
   "cell_type": "code",
   "execution_count": 5,
   "metadata": {
    "id": "5cQvpoO8jDzf"
   },
   "outputs": [
    {
     "name": "stdout",
     "output_type": "stream",
     "text": [
      "121 : YES\n",
      "naman : YES\n",
      "551 : NO\n",
      "loop : NO\n",
      "LOL : YES\n",
      "Madam : NO\n",
      "66c66 : YES\n",
      "SOON : NO\n",
      "NOON : YES\n"
     ]
    }
   ],
   "source": [
    "pal_wor_lis = ['121','naman','551','loop','LOL','Madam','66c66','SOON','NOON']\n",
    "for i in pal_wor_lis:\n",
    "    if(i == i[::-1]):\n",
    "        print(f\"{i} : YES\")\n",
    "    else:\n",
    "        print(f\"{i} : NO\")"
   ]
  },
  {
   "cell_type": "markdown",
   "metadata": {
    "id": "S6oBLjELjD98"
   },
   "source": [
    "Que-6) Below, product and their prices are given in different list. Convert them into dictionary in such a way that product item will be keys and their prices as values.\n",
    "\n",
    "Ask a user from given a list of products, which product he would like to buy. You have to add 20% gst on electronic products and 5% on non-electronic and show them the final price, according to the demand.\n",
    "\n",
    "product = [\"gold\", \"mobile\", \"refrigerator\", \"ac\", \"coat\", \"shirt\", \"nail polish\", \"shoes\"]\n",
    "\n",
    "price = [40000, 11999, 5459, 7899, 849, 659, 399, 4499]\n"
   ]
  },
  {
   "cell_type": "code",
   "execution_count": 6,
   "metadata": {
    "id": "vC5L11u4j7Im"
   },
   "outputs": [
    {
     "name": "stdout",
     "output_type": "stream",
     "text": [
      "Enter the product you want to buy : gold\n",
      "Final Price of gold : 42000.0\n",
      "{'gold': 40000, 'mobile': 11999, 'refrigerator': 5459, 'ac': 7899, 'coat': 849, 'shirt': 659, 'nail polish': 399, 'shoes': 4499}\n"
     ]
    }
   ],
   "source": [
    "list1 = ['gold','mobile','refrigerator','ac','coat','shirt','nail polish','shoes']\n",
    "list2 = [40000,11999,5459,7899,849,659,399,4499]\n",
    "dict1 = {}\n",
    "for i in range(len(list1)):\n",
    "    dict1[list1[i]] = list2[i]\n",
    "x = input(\"Enter the product you want to buy : \")\n",
    "if(x=='gold' or x=='coat' or x=='shirt'or x=='nail polish' or x=='shoes'):\n",
    "    print(f\"Final Price of {x} : {0.05*dict1[x] + dict1[x]}\")\n",
    "else:\n",
    "    print(f\"Final Price of {x} : {0.20*dict1[x] + dict1[x]}\")\n",
    "print(dict1)"
   ]
  },
  {
   "cell_type": "markdown",
   "metadata": {
    "id": "RJTxs3eSlF0C"
   },
   "source": [
    "Que-7) Take the name of 4 employees from user and add them to the list 'Employees'."
   ]
  },
  {
   "cell_type": "code",
   "execution_count": 7,
   "metadata": {
    "id": "kugx_Q3Ulj1E"
   },
   "outputs": [
    {
     "name": "stdout",
     "output_type": "stream",
     "text": [
      "Enter the name of Employee 1 : Ravi\n",
      "Enter the name of Employee 2 : Rahul\n",
      "Enter the name of Employee 3 : Kundan\n",
      "Enter the name of Employee 4 : Ranjan\n",
      "['Ravi', 'Rahul', 'Kundan', 'Ranjan']\n"
     ]
    }
   ],
   "source": [
    "Employees = []\n",
    "for i in range(4):\n",
    "    Employees.append(input(f\"Enter the name of Employee {i+1} : \"))\n",
    "print(Employees)"
   ]
  },
  {
   "cell_type": "markdown",
   "metadata": {
    "id": "XVkqD-zulkAD"
   },
   "source": [
    "Que-8) Write a Python program to find those numbers which are divisible by 7 and multiple of 5, between 1500 and 2700 (both included)"
   ]
  },
  {
   "cell_type": "code",
   "execution_count": 8,
   "metadata": {
    "id": "771fsLKzl_Yb"
   },
   "outputs": [
    {
     "name": "stdout",
     "output_type": "stream",
     "text": [
      "[1505, 1540, 1575, 1610, 1645, 1680, 1715, 1750, 1785, 1820, 1855, 1890, 1925, 1960, 1995, 2030, 2065, 2100, 2135, 2170, 2205, 2240, 2275, 2310, 2345, 2380, 2415, 2450, 2485, 2520, 2555, 2590, 2625, 2660, 2695]\n"
     ]
    }
   ],
   "source": [
    "num=[]\n",
    "for x in range(1500, 2701):\n",
    "    if (x%7==0) and (x%5==0):\n",
    "        num.append(x)\n",
    "print (num)"
   ]
  },
  {
   "cell_type": "markdown",
   "metadata": {
    "id": "EToeU4Grl_i1"
   },
   "source": [
    "Que-9) Write a program to check whether a person should go out for a tour or not. You have to take the day and temperature from the user to decide. Print 'Yes' or 'No' according to the condition.\n",
    "\n",
    "Condition For going tour \n",
    "1. The Day Should be Saturday or Sunday. \n",
    "2. The Day temp should be between 20 C to 30 C"
   ]
  },
  {
   "cell_type": "code",
   "execution_count": 9,
   "metadata": {
    "id": "zB31V61tmqga"
   },
   "outputs": [
    {
     "name": "stdout",
     "output_type": "stream",
     "text": [
      "Enter the day: Monday\n",
      "Enter temperature :22\n",
      "No Don't go for a tour \n"
     ]
    }
   ],
   "source": [
    "day=str(input(\"Enter the day: \"))\n",
    "temp=float(input(\"Enter temperature :\"))\n",
    "if (day==\"sunday\") or (day==\"saturday\"):       \n",
    "        if (temp>=20 and temp<=30):\n",
    "            print ('Go for a tour')\n",
    "        else:\n",
    "            print(\"Don't go for a tour\")\n",
    "else:\n",
    "        print(\"No Don't go for a tour \")\n"
   ]
  },
  {
   "cell_type": "markdown",
   "metadata": {
    "id": "3pEBL-Kwm0UF"
   },
   "source": [
    "Que-10) From the user take two numbers as start and end, and print the prime numbers between the given range (both limits exclusive). (This question is optional)."
   ]
  },
  {
   "cell_type": "code",
   "execution_count": 10,
   "metadata": {
    "id": "6hHVcmpYncEt"
   },
   "outputs": [
    {
     "name": "stdout",
     "output_type": "stream",
     "text": [
      "Enter the start number: 3\n",
      "Enter the end number: 16\n",
      "Prime numbers between 3 and 16 are:\n",
      "5\n",
      "7\n",
      "11\n",
      "13\n"
     ]
    }
   ],
   "source": [
    "x = int(input('Enter the start number: '))\n",
    "y = int(input('Enter the end number: '))\n",
    "\n",
    "print(\"Prime numbers between\", x, \"and\", y, \"are:\")\n",
    "\n",
    "for num in range(x+1, y):\n",
    "  \n",
    "   if num >1:\n",
    "        for i in range(2, num):\n",
    "            if (num % i) == 0:\n",
    "                break\n",
    "        else:\n",
    "            print(num)"
   ]
  },
  {
   "cell_type": "code",
   "execution_count": null,
   "metadata": {},
   "outputs": [],
   "source": []
  }
 ],
 "metadata": {
  "colab": {
   "name": "Home_assign_3.ipynb",
   "provenance": []
  },
  "kernelspec": {
   "display_name": "Python 3",
   "language": "python",
   "name": "python3"
  },
  "language_info": {
   "codemirror_mode": {
    "name": "ipython",
    "version": 3
   },
   "file_extension": ".py",
   "mimetype": "text/x-python",
   "name": "python",
   "nbconvert_exporter": "python",
   "pygments_lexer": "ipython3",
   "version": "3.8.5"
  }
 },
 "nbformat": 4,
 "nbformat_minor": 1
}
