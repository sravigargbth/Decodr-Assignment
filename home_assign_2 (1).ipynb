{
 "cells": [
  {
   "cell_type": "markdown",
   "metadata": {
    "id": "Ss4NtxX0hK0x"
   },
   "source": [
    "Que-1) Take a number between 0 to 10 from user and Check if a given number already exists in a dictionary as a key or not. Here is the dictionary.\n",
    "\n",
    "dictionaryName = {1: 10, 2: 20, 3: 30, 4: 40, 5: 50, 6: 60}\n"
   ]
  },
  {
   "cell_type": "code",
   "execution_count": 14,
   "metadata": {
    "id": "rw2q70JMhp0S"
   },
   "outputs": [
    {
     "name": "stdout",
     "output_type": "stream",
     "text": [
      "Enter a number between 0 to 10 :7\n"
     ]
    }
   ],
   "source": [
    "dictionaryName = {1: 10, 2: 20, 3: 30, 4: 40, 5: 50, 6: 60}\n",
    "x=int(input(\"Enter a number between 0 to 10 :\"))\n",
    "\n",
    "for key in dictionaryName:\n",
    "    if x==key:\n",
    "        print('number already exists as a key')"
   ]
  },
  {
   "cell_type": "markdown",
   "metadata": {
    "id": "lTXB6AIxht5F"
   },
   "source": [
    "Que-2) Write a Python script to concatenate following dictionaries to create a new one.\n",
    "\n",
    "dic1={1:10, 2:20}, dic2={3:30, 4:40}, dic3={5:50,6:60}\n"
   ]
  },
  {
   "cell_type": "code",
   "execution_count": 18,
   "metadata": {
    "id": "xEoVlmoyh6DZ"
   },
   "outputs": [
    {
     "data": {
      "text/plain": [
       "{1: 10, 2: 20, 3: 30, 4: 40, 5: 50, 6: 60}"
      ]
     },
     "execution_count": 18,
     "metadata": {},
     "output_type": "execute_result"
    }
   ],
   "source": [
    "dic1={1:10, 2:20}\n",
    "dic2={3:30, 4:40}\n",
    "dic3={5:50,6:60}\n",
    "dic={}\n",
    "dic.update(dic1)\n",
    "dic.update(dic2)\n",
    "dic.update(dic3)\n",
    "dic"
   ]
  },
  {
   "cell_type": "markdown",
   "metadata": {
    "id": "7i5A3TmQh9Jd"
   },
   "source": [
    "Que-3) Create a Dictionay where you have to take 5 numbers from user and store them as key, and their value should be square of those keys.\n",
    "\n",
    "Example: If user enters these 5 numbers: 2,3,4,5,6, then your dictionay should look like this:\n",
    "\n",
    "result = {2:4, 3:9, 4:16, 5:25, 6:36}"
   ]
  },
  {
   "cell_type": "code",
   "execution_count": 19,
   "metadata": {
    "id": "sX7ITeE8iaiw"
   },
   "outputs": [
    {
     "name": "stdout",
     "output_type": "stream",
     "text": [
      "Enter a number :3\n",
      "Enter a number :2\n",
      "Enter a number :4\n",
      "Enter a number :5\n",
      "Enter a number :6\n",
      "{3: 9, 2: 4, 4: 16, 5: 25, 6: 36}\n"
     ]
    }
   ],
   "source": [
    "Dict={}\n",
    "for i in range (0,5):\n",
    "    x=int(input(\"Enter a number :\"))\n",
    "    Dict[x]=x*x\n",
    "print(Dict)"
   ]
  },
  {
   "cell_type": "markdown",
   "metadata": {
    "id": "E7EpFyFPims3"
   },
   "source": [
    "Que-4) Find numbers which have 13 as factor for below list: \n",
    "\n",
    "numbers = [13, 5, 9, 25, 65, 71, 81, 91]\n"
   ]
  },
  {
   "cell_type": "code",
   "execution_count": 20,
   "metadata": {
    "id": "gxPcW0Yii1oj"
   },
   "outputs": [
    {
     "name": "stdout",
     "output_type": "stream",
     "text": [
      "13\n",
      "65\n",
      "91\n"
     ]
    }
   ],
   "source": [
    "lis = [13, 5, 9, 25, 65, 71, 81, 91]\n",
    "for i in lis:\n",
    "    if i%13==0:\n",
    "        print(i)"
   ]
  },
  {
   "cell_type": "markdown",
   "metadata": {
    "id": "7p0iHLF3i1zN"
   },
   "source": [
    "Que-5) Given a list of words, tell if they are palindrome or not.\n",
    "\n",
    "palindrome_word_list = ['121', 'naman', '551', 'loop', 'LOL', 'Madam', '66c66', 'SOON', 'noon']\n",
    "\n",
    "If a particular element in a given list is palindrome, then print that element followed by 'YES' otherwise 'NO'.\n"
   ]
  },
  {
   "cell_type": "code",
   "execution_count": 58,
   "metadata": {
    "id": "5cQvpoO8jDzf"
   },
   "outputs": [
    {
     "name": "stdout",
     "output_type": "stream",
     "text": [
      "121  YES\n",
      "naman  YES\n",
      "551  NO\n",
      "loop  NO\n",
      "LOL  YES\n",
      "Madam  NO\n",
      "66c66  YES\n",
      "SOON  NO\n",
      "noon  YES\n"
     ]
    }
   ],
   "source": [
    "lis1 = ['121', 'naman', '551', 'loop', 'LOL', 'Madam', '66c66', 'SOON', 'noon']\n",
    "for lis in lis1:\n",
    "    lis2=[]\n",
    "    for i in lis: \n",
    "        lis2.append(i)\n",
    "    lis3=lis2[::-1]\n",
    "    if lis2==lis3:\n",
    "        print(lis,' YES')\n",
    "    else:\n",
    "        print(lis,' NO')"
   ]
  },
  {
   "cell_type": "markdown",
   "metadata": {
    "id": "S6oBLjELjD98"
   },
   "source": [
    "Que-6) Below, product and their prices are given in different list. Convert them into dictionary in such a way that product item will be keys and their prices as values.\n",
    "\n",
    "Ask a user from given a list of products, which product he would like to buy. You have to add 20% gst on electronic products and 5% on non-electronic and show them the final price, according to the demand.\n",
    "\n",
    "product = [\"gold\", \"mobile\", \"refrigerator\", \"ac\", \"coat\", \"shirt\", \"nail polish\", \"shoes\"]\n",
    "\n",
    "price = [40000, 11999, 5459, 7899, 849, 659, 399, 4499]\n"
   ]
  },
  {
   "cell_type": "code",
   "execution_count": 30,
   "metadata": {
    "id": "vC5L11u4j7Im"
   },
   "outputs": [
    {
     "name": "stdout",
     "output_type": "stream",
     "text": [
      "{'gold': 40000, 'mobile': 11999, 'refrigerator': 5459, 'ac': 7899, 'coat': 849, 'shirt': 659, 'nail polish': 399, 'shoes': 4499}\n",
      "Enter the item you want to buy:shoes\n",
      "4723.95\n"
     ]
    }
   ],
   "source": [
    "product = [\"gold\", \"mobile\", \"refrigerator\", \"ac\", \"coat\", \"shirt\", \"nail polish\", \"shoes\"]\n",
    "price = [40000, 11999, 5459, 7899, 849, 659, 399, 4499]\n",
    "Dict={}\n",
    "for i in range (len(product)):\n",
    "    Dict[product[i]]=price[i]\n",
    "print(Dict)\n",
    "x=input(\"Enter the item you want to buy:\")\n",
    "if (x=='mobile' or x=='refrigerator' or x=='ac'):\n",
    "    finalprice=(Dict[x]+Dict[x]*20/100)\n",
    "else:\n",
    "    finalprice=(Dict[x]+Dict[x]*5/100)  \n",
    "print(finalprice)"
   ]
  },
  {
   "cell_type": "markdown",
   "metadata": {
    "id": "RJTxs3eSlF0C"
   },
   "source": [
    "Que-7) Take the name of 4 employees from user and add them to the list 'Employees'."
   ]
  },
  {
   "cell_type": "code",
   "execution_count": 21,
   "metadata": {
    "id": "kugx_Q3Ulj1E"
   },
   "outputs": [
    {
     "name": "stdout",
     "output_type": "stream",
     "text": [
      "Enter name of Employees:fuirh\n",
      "Enter name of Employees:hfuerh\n",
      "Enter name of Employees:ghofwuil\n",
      "Enter name of Employees:juyfer\n",
      "['fuirh', 'hfuerh', 'ghofwuil', 'juyfer']\n"
     ]
    }
   ],
   "source": [
    "lis1=[]\n",
    "for i in range (4):\n",
    "    x=input(\"Enter name of Employees:\")\n",
    "    lis1.append(x)\n",
    "print(lis1)"
   ]
  },
  {
   "cell_type": "markdown",
   "metadata": {
    "id": "XVkqD-zulkAD"
   },
   "source": [
    "Que-8) Write a Python program to find those numbers which are divisible by 7 and multiple of 5, between 1500 and 2700 (both included)"
   ]
  },
  {
   "cell_type": "code",
   "execution_count": 31,
   "metadata": {
    "id": "771fsLKzl_Yb"
   },
   "outputs": [
    {
     "name": "stdout",
     "output_type": "stream",
     "text": [
      "1505\n",
      "1540\n",
      "1575\n",
      "1610\n",
      "1645\n",
      "1680\n",
      "1715\n",
      "1750\n",
      "1785\n",
      "1820\n",
      "1855\n",
      "1890\n",
      "1925\n",
      "1960\n",
      "1995\n",
      "2030\n",
      "2065\n",
      "2100\n",
      "2135\n",
      "2170\n",
      "2205\n",
      "2240\n",
      "2275\n",
      "2310\n",
      "2345\n",
      "2380\n",
      "2415\n",
      "2450\n",
      "2485\n",
      "2520\n",
      "2555\n",
      "2590\n",
      "2625\n",
      "2660\n",
      "2695\n"
     ]
    }
   ],
   "source": [
    "for i in range(1500,2701):\n",
    "    if (i%7==0 and i%5==0):\n",
    "        print(i)"
   ]
  },
  {
   "cell_type": "markdown",
   "metadata": {
    "id": "EToeU4Grl_i1"
   },
   "source": [
    "Que-9) Write a program to check whether a person should go out for a tour or not. You have to take the day and temperature from the user to decide. Print 'Yes' or 'No' according to the condition.\n",
    "\n",
    "Condition For going tour \n",
    "1. The Day Should be Saturday or Sunday. \n",
    "2. The Day temp should be between 20 C to 30 C"
   ]
  },
  {
   "cell_type": "code",
   "execution_count": 34,
   "metadata": {
    "id": "zB31V61tmqga"
   },
   "outputs": [
    {
     "name": "stdout",
     "output_type": "stream",
     "text": [
      "Enter the week days :sunday\n",
      "Enter the temperature in celcius :30\n",
      "you can go out\n"
     ]
    }
   ],
   "source": [
    "day=input(\"Enter the week days :\")\n",
    "temp=int(input(\"Enter the temperature in celcius :\"))\n",
    "if (day=='Saturday' or day=='saturday' or day=='Sunday' or day=='sunday') and (temp>=20 and temp<=30):\n",
    "    print(\"you can go out\")\n",
    "else:\n",
    "    print('you can`t go out today')"
   ]
  },
  {
   "cell_type": "markdown",
   "metadata": {
    "id": "3pEBL-Kwm0UF"
   },
   "source": [
    "Que-10) From the user take two numbers as start and end, and print the prime numbers between the given range (both limits exclusive). (This question is optional)."
   ]
  },
  {
   "cell_type": "code",
   "execution_count": 5,
   "metadata": {
    "id": "6hHVcmpYncEt"
   },
   "outputs": [
    {
     "name": "stdout",
     "output_type": "stream",
     "text": [
      "Enter the starting number :2\n",
      "Enter the ending number :11\n",
      "3\n",
      "5\n",
      "7\n"
     ]
    }
   ],
   "source": [
    "start=int(input(\"Enter the starting number :\"))\n",
    "end=int(input(\"Enter the ending number :\"))\n",
    "\n",
    "for i in range (start+1,end):\n",
    "    for j in range(2,int(i/2)+1):\n",
    "        if i%j==0:\n",
    "            break\n",
    "    else:\n",
    "        print(i)"
   ]
  },
  {
   "cell_type": "code",
   "execution_count": null,
   "metadata": {},
   "outputs": [],
   "source": []
  }
 ],
 "metadata": {
  "colab": {
   "name": "Home_assign_3.ipynb",
   "provenance": []
  },
  "kernelspec": {
   "display_name": "Python 3",
   "language": "python",
   "name": "python3"
  },
  "language_info": {
   "codemirror_mode": {
    "name": "ipython",
    "version": 3
   },
   "file_extension": ".py",
   "mimetype": "text/x-python",
   "name": "python",
   "nbconvert_exporter": "python",
   "pygments_lexer": "ipython3",
   "version": "3.8.5"
  }
 },
 "nbformat": 4,
 "nbformat_minor": 1
}
